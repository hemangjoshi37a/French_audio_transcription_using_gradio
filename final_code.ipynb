{
 "cells": [
  {
   "cell_type": "code",
   "execution_count": null,
   "id": "fd204b86-f8e8-45ba-940f-07306042df9b",
   "metadata": {
    "tags": []
   },
   "outputs": [],
   "source": [
    "# import requests\n",
    "\n",
    "# # replace with your VM's IP address\n",
    "# url = 'http://127.0.0.1:8080/transcribe'  \n",
    "\n",
    "# # Here we are using local file Audio123.wav to send as json \n",
    "# # POST request\n",
    "# file = {'file': open('Audio123.wav', 'rb')}\n",
    "# response = requests.post(url, files=file)\n",
    "\n",
    "# if response.ok:\n",
    "#     transcription = response.json()['transcription']\n",
    "#     print(transcription)\n",
    "# else:\n",
    "#     print('Error:', response.reason)"
   ]
  },
  {
   "cell_type": "code",
   "execution_count": null,
   "id": "efd0180d-32af-4145-ba7e-0170d6f0ce3c",
   "metadata": {
    "scrolled": true,
    "tags": []
   },
   "outputs": [],
   "source": [
    "# pip install gradio flask transformers waitress scipy"
   ]
  },
  {
   "cell_type": "code",
   "execution_count": 1,
   "id": "70cf860b-61af-48cd-97b3-40a26626d91f",
   "metadata": {
    "tags": []
   },
   "outputs": [
    {
     "name": "stdout",
     "output_type": "stream",
     "text": [
      "Running on local URL:  http://0.0.0.0:8081\n",
      "\n",
      "To create a public link, set `share=True` in `launch()`.\n"
     ]
    },
    {
     "data": {
      "text/html": [
       "<div><iframe src=\"http://localhost:8081/\" width=\"100%\" height=\"500\" allow=\"autoplay; camera; microphone; clipboard-read; clipboard-write;\" frameborder=\"0\" allowfullscreen></iframe></div>"
      ],
      "text/plain": [
       "<IPython.core.display.HTML object>"
      ]
     },
     "metadata": {},
     "output_type": "display_data"
    },
    {
     "data": {
      "text/plain": []
     },
     "execution_count": 1,
     "metadata": {},
     "output_type": "execute_result"
    }
   ],
   "source": [
    "import gradio as gr\n",
    "from transformers import pipeline\n",
    "from gradio.components import Audio, Textbox\n",
    "from scipy.io.wavfile import write\n",
    "import numpy as np\n",
    "import torchaudio\n",
    "# # specify the device to use\n",
    "device = 0  # set to -1 for CPU, 0 for first GPU, 1 for second GPU, etc.\n",
    "device_str = f\"cuda:{device}\" if device >= 0 else \"cpu\"\n",
    "# device_str =\"cpu\"\n",
    "\n",
    "# load the pipeline with the specified device\n",
    "pipe = pipeline(\"automatic-speech-recognition\", model=\"bofenghuang/whisper-large-v2-french\", device=device_str)\n",
    "\n",
    "# set the forced decoder IDs\n",
    "pipe.model.config.forced_decoder_ids = pipe.tokenizer.get_decoder_prompt_ids(language=\"fr\", task=\"transcribe\")        \n",
    "\n",
    "def transcribe_audio(audio):\n",
    "    sample_rate, audio_tensor  = audio\n",
    "    \n",
    "    write(\"example.wav\", sample_rate, audio_tensor.astype(np.int16))\n",
    "    \n",
    "    waveform, sample_rate = torchaudio.load('example.wav')\n",
    "    \n",
    "    audio_tensor = waveform\n",
    "    \n",
    "    required_sample_rate = 16000  \n",
    "    if sample_rate != required_sample_rate:\n",
    "        resampler = torchaudio.transforms.Resample(orig_freq=sample_rate, new_freq=required_sample_rate)\n",
    "        audio_tensor = resampler(audio_tensor)\n",
    "    \n",
    "    \n",
    "    audio_tensor = audio_tensor.squeeze().numpy()\n",
    "    generated_sentences = pipe(audio_tensor, max_new_tokens=1000)[\"text\"]\n",
    "    \n",
    "    return generated_sentences\n",
    "\n",
    "audio_input = Audio(source=\"upload\", label=\"Upload Audio File\")\n",
    "text_output = Textbox(label='Transcription')\n",
    "\n",
    "interface = gr.Interface(fn=transcribe_audio, inputs=audio_input, outputs=text_output, \n",
    "                         title=\"Whisper Audio Transcription\", \n",
    "                         description=\"Transcribe audio to text using the Facebook Whisper model.\",\n",
    "                         )\n",
    "interface.queue().launch(server_name='0.0.0.0', server_port=8081)"
   ]
  },
  {
   "cell_type": "code",
   "execution_count": null,
   "id": "88e3da4f-c6b0-4c8b-83dd-dbe13ee59500",
   "metadata": {},
   "outputs": [],
   "source": []
  }
 ],
 "metadata": {
  "kernelspec": {
   "display_name": "Python 3 (ipykernel)",
   "language": "python",
   "name": "python3"
  },
  "language_info": {
   "codemirror_mode": {
    "name": "ipython",
    "version": 3
   },
   "file_extension": ".py",
   "mimetype": "text/x-python",
   "name": "python",
   "nbconvert_exporter": "python",
   "pygments_lexer": "ipython3",
   "version": "3.10.10"
  }
 },
 "nbformat": 4,
 "nbformat_minor": 5
}
